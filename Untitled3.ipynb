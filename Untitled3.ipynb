{
  "nbformat": 4,
  "nbformat_minor": 0,
  "metadata": {
    "colab": {
      "name": "Untitled3.ipynb",
      "provenance": [],
      "collapsed_sections": [],
      "authorship_tag": "ABX9TyP3aLgkRc19inL+iQbOGlHY",
      "include_colab_link": true
    },
    "kernelspec": {
      "name": "python3",
      "display_name": "Python 3"
    },
    "language_info": {
      "name": "python"
    }
  },
  "cells": [
    {
      "cell_type": "markdown",
      "metadata": {
        "id": "view-in-github",
        "colab_type": "text"
      },
      "source": [
        "<a href=\"https://colab.research.google.com/github/gautami28/Practical-strings/blob/main/Untitled3.ipynb\" target=\"_parent\"><img src=\"https://colab.research.google.com/assets/colab-badge.svg\" alt=\"Open In Colab\"/></a>"
      ]
    },
    {
      "cell_type": "code",
      "metadata": {
        "colab": {
          "base_uri": "https://localhost:8080/"
        },
        "id": "VpyBbMOurMbj",
        "outputId": "e58dfcf3-aa29-40d4-c4dc-f039747ba030"
      },
      "source": [
        "a = input(\"enter a sentence: \")\n",
        "char = input(\"enter character to be counted: \")\n",
        "count = 0\n",
        "count1 = 0\n",
        "for i in a:\n",
        "  count=count+1\n",
        "print(f\"the string contains {count} characters\")\n",
        "\n",
        "for i in a:\n",
        "  if (i==char):\n",
        "    count1 = count1+1\n",
        "print(\"letter occured\",count1)\n",
        "\n",
        "b = \"\"\n",
        "for i in a:\n",
        "  b = i+b\n",
        "if(b==a):\n",
        "  print(\"is palindrome\")\n",
        "else:\n",
        "  print(\"not a palindrome\")\n",
        "\n",
        "c= input(\"substring to be checked: \")\n",
        "if (c in a):\n",
        "  print(\"exists\")\n",
        "else:\n",
        "    print(\"doesnt exist\")\n",
        "\n",
        "long_word = 0\n",
        "for i in a.split():\n",
        "  if(len(i) > long_word):\n",
        "    long_word = len(i)\n",
        "print(\"longest word\",long_word)"
      ],
      "execution_count": 9,
      "outputs": [
        {
          "output_type": "stream",
          "name": "stdout",
          "text": [
            "enter a sentence: hii how are you doing\n",
            "enter character to be counted: i\n",
            "the string contains 21 characters\n",
            "letter occured 3\n",
            "not a palindrome\n",
            "substring to be checked: oin\n",
            "exists\n",
            "longest word 5\n"
          ]
        }
      ]
    }
  ]
}